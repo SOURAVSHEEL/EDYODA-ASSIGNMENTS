{
  "nbformat": 4,
  "nbformat_minor": 0,
  "metadata": {
    "colab": {
      "provenance": []
    },
    "kernelspec": {
      "name": "python3",
      "display_name": "Python 3"
    },
    "language_info": {
      "name": "python"
    }
  },
  "cells": [
    {
      "cell_type": "code",
      "execution_count": 1,
      "metadata": {
        "colab": {
          "base_uri": "https://localhost:8080/"
        },
        "id": "YSDLbZC_THiM",
        "outputId": "50bf1142-310c-485e-a6f9-208380e68866"
      },
      "outputs": [
        {
          "output_type": "stream",
          "name": "stdout",
          "text": [
            "[0. 0. 0. 0. 1. 0. 0. 0. 0. 0.]\n"
          ]
        }
      ],
      "source": [
        "# Create a null vector of size 10 but the fifth value which is 1.\n",
        "\n",
        "import numpy as np\n",
        "\n",
        "a = np.zeros(10)\n",
        "\n",
        "a[4] = 1\n",
        "\n",
        "print(a)"
      ]
    },
    {
      "cell_type": "code",
      "source": [
        "# Create a Vector with values ranging from 10 to 49.\n",
        "\n",
        "vector = np.arange(10,50)\n",
        "\n",
        "print(vector)\n",
        "\n",
        "\n",
        "  "
      ],
      "metadata": {
        "colab": {
          "base_uri": "https://localhost:8080/"
        },
        "id": "GYyD0klgTpDe",
        "outputId": "a67e9d0c-06f1-4b41-ccef-a8819f80e634"
      },
      "execution_count": 2,
      "outputs": [
        {
          "output_type": "stream",
          "name": "stdout",
          "text": [
            "[10 11 12 13 14 15 16 17 18 19 20 21 22 23 24 25 26 27 28 29 30 31 32 33\n",
            " 34 35 36 37 38 39 40 41 42 43 44 45 46 47 48 49]\n"
          ]
        }
      ]
    },
    {
      "cell_type": "code",
      "source": [
        "# Create a 3x3 matrix with values ranging from 0 to 8\n",
        "\n",
        "a = np.arange(0,9)\n",
        "\n",
        "b = a.reshape(3,3)\n",
        "\n",
        "print(b)"
      ],
      "metadata": {
        "colab": {
          "base_uri": "https://localhost:8080/"
        },
        "id": "lanDrYclUGLR",
        "outputId": "d5a9a016-51d9-4d69-e7e1-a8c304015135"
      },
      "execution_count": 3,
      "outputs": [
        {
          "output_type": "stream",
          "name": "stdout",
          "text": [
            "[[0 1 2]\n",
            " [3 4 5]\n",
            " [6 7 8]]\n"
          ]
        }
      ]
    },
    {
      "cell_type": "code",
      "source": [
        "# Find indices of non-zero elements from [1,2,0,0,4,0]\n",
        "\n",
        "a = np.array([1,2,0,0,4,0])\n",
        "\n",
        "indices = np.nonzero(a)\n",
        "\n",
        "print(indices)"
      ],
      "metadata": {
        "colab": {
          "base_uri": "https://localhost:8080/"
        },
        "id": "9qg4-ktTUc9U",
        "outputId": "ef831779-1060-4c14-dcef-7f5b4ae71647"
      },
      "execution_count": 4,
      "outputs": [
        {
          "output_type": "stream",
          "name": "stdout",
          "text": [
            "(array([0, 1, 4]),)\n"
          ]
        }
      ]
    },
    {
      "cell_type": "code",
      "source": [
        "# Create a 10x10 array with random values and find the minimum and maximum values\n",
        "\n",
        "a = np.random.random((10,10))\n",
        "\n",
        "mix_val = np.max(a)\n",
        "min_val = np.min(a)\n",
        "\n",
        "print(a)\n",
        "print(\"Maximum value: \",mix_val)\n",
        "print(\"Minimun value: \",min_val)\n"
      ],
      "metadata": {
        "colab": {
          "base_uri": "https://localhost:8080/"
        },
        "id": "J7YWPVqgVCjn",
        "outputId": "c3ff9a8c-3cbd-496a-a4bc-0348e4b15b2a"
      },
      "execution_count": 9,
      "outputs": [
        {
          "output_type": "stream",
          "name": "stdout",
          "text": [
            "[[0.26237864 0.61363298 0.48978887 0.39075591 0.18725062 0.16934491\n",
            "  0.81959358 0.13261413 0.17810044 0.08876255]\n",
            " [0.9137137  0.2787752  0.53305612 0.56894501 0.98555941 0.89260273\n",
            "  0.17244226 0.20828364 0.38272683 0.60384292]\n",
            " [0.54464858 0.91145647 0.18172451 0.24446285 0.47914909 0.90941829\n",
            "  0.56127082 0.94998984 0.30564119 0.32628097]\n",
            " [0.55464241 0.6855574  0.80176998 0.96905288 0.4233535  0.8129491\n",
            "  0.10418443 0.52002496 0.64359932 0.01842316]\n",
            " [0.85243606 0.30628754 0.28147804 0.38179698 0.46643475 0.84898245\n",
            "  0.90892771 0.68463279 0.44653452 0.44575638]\n",
            " [0.20022111 0.68448358 0.25114716 0.87078834 0.33028042 0.72526396\n",
            "  0.18856158 0.64255077 0.90543587 0.03686285]\n",
            " [0.45815631 0.94910558 0.47679419 0.13843373 0.76598539 0.88465745\n",
            "  0.7976589  0.30647993 0.98157929 0.34945271]\n",
            " [0.41433491 0.52088764 0.94869775 0.3290199  0.72428416 0.6057811\n",
            "  0.68357538 0.42474725 0.23459426 0.38344532]\n",
            " [0.76891555 0.67215814 0.0536117  0.23908853 0.33454529 0.74860776\n",
            "  0.94161196 0.47186979 0.008689   0.51015428]\n",
            " [0.59289851 0.37903131 0.62291975 0.75599935 0.04057563 0.74827214\n",
            "  0.59270494 0.4318673  0.9843141  0.18503023]]\n",
            "Maximum value:  0.9855594083583358\n",
            "Minimun value:  0.008689001699674681\n"
          ]
        }
      ]
    },
    {
      "cell_type": "code",
      "source": [
        "# Create a random vector of size 30 and find the mean value.\n",
        "\n",
        "a = np.random.random(30)\n",
        "\n",
        "mean_val = np.mean(a)\n",
        "\n",
        "print(\"Mean Value: \",mean_val)"
      ],
      "metadata": {
        "colab": {
          "base_uri": "https://localhost:8080/"
        },
        "id": "ijBDDo1vWKeW",
        "outputId": "5ef1cacc-ed90-4bf1-e4d7-3d9a97f9403e"
      },
      "execution_count": 10,
      "outputs": [
        {
          "output_type": "stream",
          "name": "stdout",
          "text": [
            "Mean Value:  0.47359438279653754\n"
          ]
        }
      ]
    }
  ]
}